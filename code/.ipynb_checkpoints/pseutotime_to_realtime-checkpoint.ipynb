{
 "cells": [
  {
   "cell_type": "markdown",
   "metadata": {},
   "source": [
    "## Simulate pseudotime\n",
    "\n",
    "The first part of this code involves simulating cell states at sampling times. "
   ]
  },
  {
   "cell_type": "code",
   "execution_count": 304,
   "metadata": {
    "collapsed": false
   },
   "outputs": [
    {
     "data": {
      "image/png": "[encoded data removed]",
      "text/plain": [
       "<matplotlib.figure.Figure at 0x117c134d0>"
      ]
     },
     "metadata": {},
     "output_type": "display_data"
    }
   ],
   "source": [
    "import numpy as np\n",
    "import matplotlib.pyplot as plt\n",
    "\n",
    "lambda1 = 0.5\n",
    "lambda2 = 0.1\n",
    "lambda3 = 0.25\n",
    "\n",
    "num_cells = 10000\n",
    "num_cell_types = 4\n",
    "type1_times = np.random.exponential(1/lambda1,num_cells)\n",
    "type2_times = np.random.exponential(1/lambda2,num_cells)\n",
    "type3_times = np.random.exponential(1/lambda3,num_cells)\n",
    "\n",
    "# Determine end states\n",
    "all_trans_vects = []\n",
    "for i in range(num_cells):\n",
    "    all_trans_vects.append([])\n",
    "    all_trans_vects[i].append((1,type1_times[i]))\n",
    "    if type2_times[i] < type3_times[i]: \n",
    "        all_trans_vects[i].append((2,type1_times[i]+type2_times[i]))\n",
    "    else: \n",
    "        all_trans_vects[i].append((3,type1_times[i]+type3_times[i]))\n",
    "        \n",
    "# Count each type of cell at each observation time\n",
    "def determine_cell_type_at_t(t,trans_vects):\n",
    "    cell_types = [0]+[i[0] for i in trans_vects]\n",
    "    cell_type_ind = 0\n",
    "    for trans in trans_vects:\n",
    "        if  t > trans[1]:\n",
    "            cell_type_ind += 1\n",
    "    return cell_types[cell_type_ind]\n",
    "\n",
    "obs_times = range(1,5)\n",
    "type_counts = [[num_cells,0,0,0]]\n",
    "for i,t in enumerate(obs_times):\n",
    "    type_counts.append(np.bincount(map(determine_cell_type_at_t,\n",
    "                                       [t for i in range(num_cells)],all_trans_vects)))\n",
    "\n",
    "# Plot\n",
    "times = np.array(type_counts).T\n",
    "bottom=np.zeros(5)\n",
    "colors=[\"red\",\"orange\",\"green\",'blue']\n",
    "ind=range(5)\n",
    "width = 0.35\n",
    "for i in range(4):\n",
    "    p1 = plt.bar(ind, times[i], width, color=colors[i],bottom=bottom)\n",
    "    bottom=bottom+np.array(times[i])"
   ]
  },
  {
   "cell_type": "markdown",
   "metadata": {},
   "source": [
    "## Estimating rate parameters\n",
    "If we know the state of each cell at each of 5 sampling points, and we know the underlying chain model, can we estimate the exponential rate parameters underpinning transition rates?"
   ]
  },
  {
   "cell_type": "code",
   "execution_count": 305,
   "metadata": {
    "collapsed": false
   },
   "outputs": [],
   "source": [
    "import scipy.optimize\n",
    "def estimate_rate_parameters_for_Y(times,t):\n",
    "    # Estimate lambda1\n",
    "    est_l1 = []\n",
    "    for i in range(1,len(times[0])):\n",
    "        est_l1.append(-np.log(float(times[0][i])/times[0][0])/t[i])\n",
    "    l1 = np.median(est_l1)\n",
    "    \n",
    "    # Estimate lambda2 + lambda3\n",
    "    est_l2,est_l3 = [],[]\n",
    "    for i in range(1,len(times[0])):\n",
    "        c = float(times[1][i])/times[0][0]\n",
    "        def F(x):\n",
    "            return l1*np.exp(-x*t[i])*(np.exp(t[i]*(-l1+x))-1)/(-l1+x)-c\n",
    "        b = scipy.optimize.broyden1(F,0.25,f_tol=1e-14)\n",
    "        a = float(times[2][i])/times[3][i]\n",
    "        est_l3.append(b/(a+1))\n",
    "        est_l2.append(a*b/(a+1))\n",
    "    l2 = np.median(est_l2)\n",
    "    l3 = np.median(est_l3)\n",
    "    \n",
    "    return l1, l2, l3"
   ]
  },
  {
   "cell_type": "code",
   "execution_count": 310,
   "metadata": {
    "collapsed": false
   },
   "outputs": [
    {
     "data": {
      "text/plain": [
       "(0.50936876405681331, 0.097521785158570712, 0.24184880821162108)"
      ]
     },
     "execution_count": 310,
     "metadata": {},
     "output_type": "execute_result"
    }
   ],
   "source": [
    "estimate_rate_parameters_for_Y(times,range(5))"
   ]
  }
 ],
 "metadata": {
  "kernelspec": {
   "display_name": "Python 2",
   "language": "python",
   "name": "python2"
  },
  "language_info": {
   "codemirror_mode": {
    "name": "ipython",
    "version": 2
   },
   "file_extension": ".py",
   "mimetype": "text/x-python",
   "name": "python",
   "nbconvert_exporter": "python",
   "pygments_lexer": "ipython2",
   "version": "2.7.10"
  }
 },
 "nbformat": 4,
 "nbformat_minor": 0
}
