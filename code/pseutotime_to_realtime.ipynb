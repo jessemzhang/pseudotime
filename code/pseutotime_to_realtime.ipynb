{
 "cells": [
  {
   "cell_type": "code",
   "execution_count": 1,
   "metadata": {
    "collapsed": true
   },
   "outputs": [],
   "source": [
    "import numpy as np"
   ]
  },
  {
   "cell_type": "code",
   "execution_count": 4,
   "metadata": {
    "collapsed": true
   },
   "outputs": [],
   "source": [
    "beta1=2\n",
    "beta2=1\n",
    "beta3=4\n",
    "num_cells=500"
   ]
  },
  {
   "cell_type": "code",
   "execution_count": 10,
   "metadata": {
    "collapsed": true
   },
   "outputs": [],
   "source": [
    "exp_lambda1=np.random.exponential(beta1,num_cells)\n",
    "exp_lambda2=np.random.exponential(beta2,num_cells)\n",
    "exp_lambda3=np.random.exponential(beta3,num_cells)"
   ]
  },
  {
   "cell_type": "code",
   "execution_count": 19,
   "metadata": {
    "collapsed": false
   },
   "outputs": [],
   "source": [
    "state=np.zeros(num_cells)\n",
    "for i,e_lambda_2 in enumerate(exp_lambda2):\n",
    "    if e_lambda_2 < exp_lambda3[i]:\n",
    "        state[i]=2\n",
    "    else:\n",
    "        state[i]=3"
   ]
  },
  {
   "cell_type": "code",
   "execution_count": 24,
   "metadata": {
    "collapsed": false
   },
   "outputs": [],
   "source": [
    "timing_cell=[]\n",
    "for cell in range(500):\n",
    "    if state[cell]==2:\n",
    "        final_time=exp_lambda2[cell]\n",
    "    else:\n",
    "        final_time=exp_lambda3[cell]\n",
    "    cell_time=[(0,0),(1,exp_lambda1[cell]),(int(state[cell]),exp_lambda1[cell]+final_time)]\n",
    "    timing_cell.append(cell_time)"
   ]
  },
  {
   "cell_type": "code",
   "execution_count": 50,
   "metadata": {
    "collapsed": false,
    "scrolled": false
   },
   "outputs": [],
   "source": [
    "sample=[]\n",
    "for real_time in range(5):\n",
    "    sample.append([])\n",
    "    for cell_to_sample in range(real_time*100,(real_time+1)*100):\n",
    "        if real_time < timing_cell[cell_to_sample][1][1]:\n",
    "            sample[real_time].append(timing_cell[cell_to_sample][1][0]-1)\n",
    "        elif real_time < timing_cell[cell_to_sample][2][1]:\n",
    "            sample[real_time].append(timing_cell[cell_to_sample][2][0]-1)\n",
    "        else:\n",
    "            sample[real_time].append(timing_cell[cell_to_sample][2][0])"
   ]
  },
  {
   "cell_type": "code",
   "execution_count": 82,
   "metadata": {
    "collapsed": false
   },
   "outputs": [
    {
     "data": {
      "image/png": "[encoded data removed]",
      "text/plain": [
       "<matplotlib.figure.Figure at 0x7fa329ae1e10>"
      ]
     },
     "metadata": {},
     "output_type": "display_data"
    }
   ],
   "source": [
    "%matplotlib inline\n",
    "\n",
    "import matplotlib.pyplot as plt\n",
    "\n",
    "from collections import Counter\n",
    "\n",
    "vects_of_dicts=[]\n",
    "for i in range(5):\n",
    "    vects_of_dicts.append(Counter(sample[i]))\n",
    "\n",
    "times=[]\n",
    "for j in range(4):\n",
    "    times.append([vects_of_dicts[0].get(j,0),vects_of_dicts[1].get(j,0),\n",
    "                 vects_of_dicts[2].get(j,0), vects_of_dicts[3].get(j,0),\n",
    "                 vects_of_dicts[4].get(j,0)])\n",
    "\n",
    "bottom=np.zeros(5)\n",
    "colors=[\"red\",\"orange\",\"green\",'blue']\n",
    "ind=range(5)\n",
    "width = 0.35\n",
    "for i in range(4):\n",
    "    p1 = plt.bar(ind, times[i], width, color=colors[i],bottom=bottom)\n",
    "    bottom=bottom+np.array(times[i])"
   ]
  },
  {
   "cell_type": "code",
   "execution_count": 81,
   "metadata": {
    "collapsed": false
   },
   "outputs": [
    {
     "data": {
      "text/plain": [
       "[Counter({0: 100}),\n",
       " Counter({0: 59, 1: 21, 2: 16, 3: 4}),\n",
       " Counter({0: 46, 1: 9, 2: 37, 3: 8}),\n",
       " Counter({0: 24, 1: 12, 2: 49, 3: 15}),\n",
       " Counter({0: 15, 1: 9, 2: 57, 3: 19})]"
      ]
     },
     "execution_count": 81,
     "metadata": {},
     "output_type": "execute_result"
    }
   ],
   "source": [
    "vects_of_dicts"
   ]
  },
  {
   "cell_type": "code",
   "execution_count": null,
   "metadata": {
    "collapsed": true
   },
   "outputs": [],
   "source": []
  }
 ],
 "metadata": {
  "kernelspec": {
   "display_name": "Python 2",
   "language": "python",
   "name": "python2"
  },
  "language_info": {
   "codemirror_mode": {
    "name": "ipython",
    "version": 2
   },
   "file_extension": ".py",
   "mimetype": "text/x-python",
   "name": "python",
   "nbconvert_exporter": "python",
   "pygments_lexer": "ipython2",
   "version": "2.7.10"
  }
 },
 "nbformat": 4,
 "nbformat_minor": 0
}
